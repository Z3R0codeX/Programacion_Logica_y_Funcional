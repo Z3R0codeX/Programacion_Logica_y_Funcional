{
 "cells": [
  {
   "cell_type": "markdown",
   "metadata": {},
   "source": [
    "### Expresion 1"
   ]
  },
  {
   "cell_type": "markdown",
   "metadata": {},
   "source": [
    "#1\n",
    "expr1 = (3 + 2) * 4 \n",
    "1. Se suma 3+2 =5\n",
    "2. Se multiplica por 4 =20"
   ]
  },
  {
   "cell_type": "code",
   "execution_count": 2,
   "metadata": {},
   "outputs": [
    {
     "name": "stdout",
     "output_type": "stream",
     "text": [
      "20\n"
     ]
    }
   ],
   "source": [
    "expr1 = (3 + 2) * 4\n",
    "print(expr1)"
   ]
  },
  {
   "cell_type": "markdown",
   "metadata": {},
   "source": [
    "#2\n",
    "expr2 = 2 * 3 ** 2\n",
    "1. Se eleva 3^2 =9\n",
    "2. Se Multiplica 2*9 =18"
   ]
  },
  {
   "cell_type": "code",
   "execution_count": 14,
   "metadata": {},
   "outputs": [
    {
     "name": "stdout",
     "output_type": "stream",
     "text": [
      "18\n"
     ]
    }
   ],
   "source": [
    "expr2 = 2 * 3 ** 2\n",
    "print(expr2)"
   ]
  },
  {
   "cell_type": "markdown",
   "metadata": {},
   "source": [
    "#3\n",
    "expr3 = 10 // 3 + 2\n",
    "1. Se divide 10//3 = 3\n",
    "2. Se suma 3+2 =5"
   ]
  },
  {
   "cell_type": "code",
   "execution_count": 15,
   "metadata": {},
   "outputs": [
    {
     "name": "stdout",
     "output_type": "stream",
     "text": [
      "5\n"
     ]
    }
   ],
   "source": [
    "expr3 = 10 // 3 + 2\n",
    "print(expr3)"
   ]
  },
  {
   "cell_type": "markdown",
   "metadata": {},
   "source": [
    "#4\n",
    "expr4 = 17 % 5 * 2\n",
    "1. Se obtiene el residuo de la divicion 17/5 (entera)=2\n",
    "2. Se multiplica 2*2 =4"
   ]
  },
  {
   "cell_type": "code",
   "execution_count": 16,
   "metadata": {},
   "outputs": [
    {
     "name": "stdout",
     "output_type": "stream",
     "text": [
      "4\n"
     ]
    }
   ],
   "source": [
    "expr4 = 17 % 5*2\n",
    "print(expr4)"
   ]
  },
  {
   "cell_type": "markdown",
   "metadata": {},
   "source": [
    "#5\n",
    "expr5 = -2 ** 2\n",
    "1. Se eleva 2^2 = 4\n",
    "2. Se agrega el operador - =-4"
   ]
  },
  {
   "cell_type": "code",
   "execution_count": null,
   "metadata": {},
   "outputs": [
    {
     "name": "stdout",
     "output_type": "stream",
     "text": [
      "-4\n"
     ]
    }
   ],
   "source": [
    "expr5 = - 2 ** 2\n",
    "print(expr5)"
   ]
  },
  {
   "cell_type": "markdown",
   "metadata": {},
   "source": [
    "#6\n",
    "expr6 = 3 + 4 * 2 ** 2 // 3\n",
    "1. Se eleva 2^2 =4\n",
    "2. Se multiplica 4*4 =16\n",
    "3. Se divide 16/3 = 5\n",
    "4. Se suma 3+5 =8"
   ]
  },
  {
   "cell_type": "code",
   "execution_count": 18,
   "metadata": {},
   "outputs": [
    {
     "name": "stdout",
     "output_type": "stream",
     "text": [
      "8\n"
     ]
    }
   ],
   "source": [
    "expr6 = 3 + 4 * 2 ** 2 // 3\n",
    "print(expr6)"
   ]
  },
  {
   "cell_type": "markdown",
   "metadata": {},
   "source": [
    "#7\n",
    "expr7 = 3 < 4 < 5\n",
    "1. Comparamos 3<4 verdad\n",
    "2. Comparamos 4<5 verdad"
   ]
  },
  {
   "cell_type": "code",
   "execution_count": 19,
   "metadata": {},
   "outputs": [
    {
     "name": "stdout",
     "output_type": "stream",
     "text": [
      "True\n"
     ]
    }
   ],
   "source": [
    "expr7 = 3 < 4 < 5\n",
    "print(expr7)"
   ]
  },
  {
   "cell_type": "markdown",
   "metadata": {},
   "source": [
    "#8\n",
    "expr8 = (3 > 2) and (5 < 10) or False\n",
    "1. Se compara 3>2 verdad\n",
    "2. Se compara 5<10 verdad\n",
    "3. Si ambas son verdad es verdad\n",
    "4. Si alguna o ambas son falsas es falso"
   ]
  },
  {
   "cell_type": "code",
   "execution_count": 20,
   "metadata": {},
   "outputs": [
    {
     "name": "stdout",
     "output_type": "stream",
     "text": [
      "True\n"
     ]
    }
   ],
   "source": [
    "expr8 = (3 > 2) and (5 < 10) or False\n",
    "print(expr8)\n"
   ]
  },
  {
   "cell_type": "markdown",
   "metadata": {},
   "source": [
    "#9\n",
    "expr9 = 5 & 3 + 1\n",
    "1. Se suma 3+1 =4\n",
    "2. Se realiza un and bit por bit entre 5 y 4 (5 = 0101, 4 =0100) el and da 1 solo si ambos bits son 1 = 0100 = 4\n"
   ]
  },
  {
   "cell_type": "code",
   "execution_count": 21,
   "metadata": {},
   "outputs": [
    {
     "name": "stdout",
     "output_type": "stream",
     "text": [
      "4\n"
     ]
    }
   ],
   "source": [
    "expr9 = 5 & 3 + 1\n",
    "print(expr9)"
   ]
  },
  {
   "cell_type": "markdown",
   "metadata": {},
   "source": [
    "#10\n",
    "expr10 = (2 + 3) * 4 ** 2 // (5 % 3) and not False\n",
    "1. Se suma 2+3 = 5\n",
    "2. Se obtiene el residuo de 5/3 =2\n",
    "3. Se elava 4^2 =16\n",
    "4. Se multiplica 5*16 =80\n",
    "5. Se divide 80/2 = 40 \n",
    "6. 40 no es falso = verdad"
   ]
  },
  {
   "cell_type": "code",
   "execution_count": 22,
   "metadata": {},
   "outputs": [
    {
     "name": "stdout",
     "output_type": "stream",
     "text": [
      "True\n"
     ]
    }
   ],
   "source": [
    "expr10 = (2 + 3) * 4 ** 2 // (5 % 3) and not False\n",
    "print(expr10)"
   ]
  },
  {
   "cell_type": "markdown",
   "metadata": {},
   "source": [
    "#11\n",
    "expr11 =  ((65 & 66) > 70 ) And not (65 ^ 66) == 0\n",
    "1. Se realiza un and bit por bit entre 65=1000001 y 66=1000010 = 1000000= 64\n",
    "2. Se compara 64>70 =falso\n",
    "3. Se realiza un xor entre 65=1000001 y 66=1000010 = 0000011 =3\n",
    "4. Se compara 3 == 0 =falso\n",
    "5. Se niega falso =verdad\n",
    "6. Al final Falso y verdad =falso"
   ]
  },
  {
   "cell_type": "code",
   "execution_count": 24,
   "metadata": {},
   "outputs": [
    {
     "name": "stdout",
     "output_type": "stream",
     "text": [
      "False\n"
     ]
    }
   ],
   "source": [
    "expr11 =  ((65 & 66) > 70 ) and not (65 ^ 66) == 0\n",
    "print(expr11)"
   ]
  }
 ],
 "metadata": {
  "kernelspec": {
   "display_name": "Python 3",
   "language": "python",
   "name": "python3"
  },
  "language_info": {
   "codemirror_mode": {
    "name": "ipython",
    "version": 3
   },
   "file_extension": ".py",
   "mimetype": "text/x-python",
   "name": "python",
   "nbconvert_exporter": "python",
   "pygments_lexer": "ipython3",
   "version": "3.13.7"
  }
 },
 "nbformat": 4,
 "nbformat_minor": 2
}
