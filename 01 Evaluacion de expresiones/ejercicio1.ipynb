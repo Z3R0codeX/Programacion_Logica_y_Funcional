{
 "cells": [
  {
   "cell_type": "markdown",
   "id": "4586f3af",
   "metadata": {},
   "source": [
    "# Ejercicio 1\n",
    "Ejercicio 1 de evaluacion de expresiones en Phyton\n",
    "\n",
    "$ \\frac {\\pi ^2}{6} = \\sum _{n=1}^{\\infty} \\frac{1}{n^2}  $"
   ]
  },
  {
   "cell_type": "code",
   "execution_count": 2,
   "id": "8e60b34f",
   "metadata": {},
   "outputs": [
    {
     "name": "stdout",
     "output_type": "stream",
     "text": [
      "valor teorico: 1.6449340668482264, Aproximacion: 1.64493306684777\n",
      "Error 1.000000456441441e-06\n"
     ]
    }
   ],
   "source": [
    "import math\n",
    "res = math.pi**2 / 6\n",
    "res2=0\n",
    "\n",
    "for x in range(1,1000000):\n",
    "    res2+= 1/(x**2)\n",
    "\n",
    "print(f\"valor teorico: {res}, Aproximacion: {res2}\")\n",
    "error = abs(res - res2)\n",
    "print(f\"Error {error}\")\n"
   ]
  }
 ],
 "metadata": {
  "kernelspec": {
   "display_name": "Python 3",
   "language": "python",
   "name": "python3"
  },
  "language_info": {
   "codemirror_mode": {
    "name": "ipython",
    "version": 3
   },
   "file_extension": ".py",
   "mimetype": "text/x-python",
   "name": "python",
   "nbconvert_exporter": "python",
   "pygments_lexer": "ipython3",
   "version": "3.13.7"
  }
 },
 "nbformat": 4,
 "nbformat_minor": 5
}
